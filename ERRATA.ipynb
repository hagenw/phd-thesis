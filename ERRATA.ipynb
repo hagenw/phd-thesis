{
 "cells": [
  {
   "cell_type": "markdown",
   "metadata": {},
   "source": [
    "# Errata\n",
    "\n",
    "The following text are corrections and remarks to [Hagen Wierstorf - Perceptual Assessment of Sound Field Synthesis](http://dx.doi.org/10.14279/depositonce-4310). The section numbering is identical to the one from the thesis.\n"
   ]
  },
  {
   "cell_type": "markdown",
   "metadata": {},
   "source": [
    "## 2. Theory of Sound Field Synthesis\n",
    "\n",
    "This chapter was transfered to an online version at http://sfstoolbox.org/ and further developed and corrected.\n",
    "Here, I mention only important changes and corrections to the content as presented in the thesis.\n"
   ]
  },
  {
   "cell_type": "markdown",
   "metadata": {},
   "source": [
    "### 2.1 Solution for Special Geometries: Near-Field Compensated Higher Order Ambisonics and Spectral Division Method\n",
    "\n",
    "The expansion in the basis functions (2.2), (2.3), (2.4) is a little bit sloppy formulated as those are only correct for compact spaces and their summation is infinite and does not stop at a particular $N$. Changed accordingly they should read\n",
    "\n",
    "\\begin{equation}\n",
    "    G(\\mathbf{x}-\\mathbf{x}_0,\\omega) = \\sum_n \\tilde{G}_n(\\omega)\\Psi^*_n(\\mathbf{x}_0)\\Psi_n(\\mathbf{x})\n",
    "    \\tag{2.2}\n",
    "\\end{equation}\n",
    "\\begin{equation}\n",
    "    D(\\mathbf{x}_0,\\omega) = \\sum_n \\tilde{D}_n(\\omega)\\Psi_n(\\mathbf{x}_0)\n",
    "    \\tag{2.3}\n",
    "\\end{equation}\n",
    "\\begin{equation}\n",
    "    S(\\mathbf{x},\\omega) = \\sum_n \\tilde{S}_n(\\omega)\\Psi_n(\\mathbf{x})\n",
    "    \\tag{2.4}\n",
    "\\end{equation}\n",
    "\n",
    "and accompied for non-compact spaces with these equations\n",
    "\n",
    "\\begin{equation}\n",
    "    G(\\mathbf{x}-\\mathbf{x}_0,\\omega) = \\int \\tilde{G}(\\mu,\\omega)\\Psi^*(\\mu,\\mathbf{x}_0)\\Psi_n(\\mu,\\mathbf{x}) d\\mu\n",
    "\\end{equation}\n",
    "\\begin{equation}\n",
    "    D(\\mathbf{x}_0,\\omega) = \\int \\tilde{D}(\\mu,\\omega)\\Psi(\\mu,\\mathbf{x}_0) d\\mu\n",
    "\\end{equation}\n",
    "\\begin{equation}\n",
    "    S(\\mathbf{x},\\omega) = \\int \\tilde{S}(\\mu,\\omega)\\Psi(\\mu,\\mathbf{x}) d\\mu\n",
    "\\end{equation}\n",
    "\n",
    "where $\\mu$ is the measure in the underlying space.\n",
    "\n",
    "For a discussion see: https://github.com/sfstoolbox/sfs-documentation/issues/9"
   ]
  },
  {
   "cell_type": "markdown",
   "metadata": {
    "collapsed": true
   },
   "source": [
    "### 2.5 Driving functions\n",
    "\n",
    "A lot of the driving functions presented for WFS in 2.5.2 are now updated after the discussion presented in [Schultz, F., Sound Field Synthesis for Line Source Array Applications in Large-Scale Sound Reinforcement, doctoral thesis, Universität Rostock, Rostock, Germany, 2016](http://rosdok.uni-rostock.de/resolve/urn/urn:nbn:de:gbv:28-diss2016-0078-1), see http://sfstoolbox.org/en/latest/#driving-functions-for-wfs. The remaining discussion in this section focusses only on corrections of the driving functions as presented in the thesis.\n",
    "\n",
    "The WFS driving functions for a focused source (2.71) and (2.72) have the\n",
    "wrong direction in time. The equations should read\n",
    "\n",
    "\\begin{equation}\n",
    "    D(\\mathbf{x}_0,\\omega) = \\frac{1}{2\\pi} A(\\omega) w(\\mathbf{x}_0) \\left(i\\frac{\\omega}{c} + \\frac{1}{|\\mathbf{x}_0-\\mathbf{x}_\\text{s}|} \\right) \\frac{(\\mathbf{x}_0-\\mathbf{x}_\\text{s})\\mathbf{n}_{\\mathbf{x}_0}}{|\\mathbf{x}_0-\\mathbf{x}_\\text{s}|^2} e^{i\\frac{\\omega}{c} |\\mathbf{x}_0-\\mathbf{x}_\\text{s}|},\n",
    "    \\tag{2.71}\n",
    "\\end{equation}\n",
    "\n",
    "\\begin{equation}\n",
    "    D_\\text{2.5D}(\\mathbf{x}_0,\\omega) = \\frac{g_0}{2\\pi} A(\\omega) w(\\mathbf{x}_0) \\sqrt{i\\frac{\\omega}{c}} \\left(1 + \\frac{c}{i\\omega} \\frac{1}{|\\mathbf{x}_0-\\mathbf{x}_\\text{s}|} \\right) \\frac{(\\mathbf{x}_0-\\mathbf{x}_\\text{s}) \\mathbf{n}_{\\mathbf{x}_0}}{|\\mathbf{x}_0-\\mathbf{x}_\\text{s}|^2} e^{i\\frac{\\omega}{c} |\\mathbf{x}_0-\\mathbf{x}_\\text{s}|}\n",
    "    \\tag{2.72}\n",
    "\\end{equation}"
   ]
  },
  {
   "cell_type": "markdown",
   "metadata": {},
   "source": [
    "## 3. Sound Field Errors and their Perceptual Relevance"
   ]
  },
  {
   "cell_type": "markdown",
   "metadata": {},
   "source": [
    "### 3.3 Spatial Aliasing and Discrete Secondary Source Distributions\n",
    "\n",
    "Equation (3.5) for the selection of the maximum order of band-limited NFC-HOA has to be slightly changed to\n",
    "\n",
    "\\begin{equation}\n",
    "    M \\le\n",
    "    \\begin{cases}\n",
    "        \\frac{N_\\text{s}}{2} - 1 & \\text{for even } N_\\text{s} \\\\\n",
    "        \\frac{(N_\\text{s}-1)}{2} & \\text{for odd } N_\\text{s}\n",
    "    \\end{cases}\n",
    "    \\tag{3.5}\n",
    "\\end{equation}"
   ]
  },
  {
   "cell_type": "markdown",
   "metadata": {},
   "source": [
    "## 5. Psychoacoustics of Sound Field Synthesis"
   ]
  },
  {
   "cell_type": "markdown",
   "metadata": {},
   "source": [
    "### 5.2 Timbral Fidelity\n",
    "\n",
    "The impulse responses representing the different WFS systems in the coloration experiment were all created using integer delays. This added a few distortions for high frequencies, which are observeable in Fig. 5.8 as the slight ripples in the spectra for the conditions with an inter-loudspeaker distance of 0.5 cm and 0.3 cm. We repeated the experiment by using a fractional delay method and a sampling rate of 48 kHz which ensured that the delay line had a flat frequency response in the region up to 44.1 kHz. Now the frequency response for the WFS system with an inter-loudspeaker distance of 1 cm showed a flat frequncy response. The same holds for the results of the listening test presented in Fig. 5.10. In the repeated listening test, the conditions for 1 cm and 2 cm are no longer different from the reference condition.\n",
    "The new results are available at: http://docs.twoears.eu/en/1.2/database/experiments/#coloration-of-a-point-source-in-wave-field-synthesis-revisited."
   ]
  }
 ],
 "metadata": {
  "kernelspec": {
   "display_name": "Python 3",
   "language": "python",
   "name": "python3"
  },
  "language_info": {
   "codemirror_mode": {
    "name": "ipython",
    "version": 3
   },
   "file_extension": ".py",
   "mimetype": "text/x-python",
   "name": "python",
   "nbconvert_exporter": "python",
   "pygments_lexer": "ipython3",
   "version": "3.5.2"
  }
 },
 "nbformat": 4,
 "nbformat_minor": 0
}
